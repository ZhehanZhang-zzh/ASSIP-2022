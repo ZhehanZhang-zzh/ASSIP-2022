{
 "cells": [
  {
   "cell_type": "code",
   "execution_count": 6,
   "id": "2918e728",
   "metadata": {},
   "outputs": [
    {
     "ename": "ModuleNotFoundError",
     "evalue": "No module named 'googleapiclient'",
     "output_type": "error",
     "traceback": [
      "\u001b[1;31m---------------------------------------------------------------------------\u001b[0m",
      "\u001b[1;31mModuleNotFoundError\u001b[0m                       Traceback (most recent call last)",
      "Input \u001b[1;32mIn [6]\u001b[0m, in \u001b[0;36m<cell line: 12>\u001b[1;34m()\u001b[0m\n\u001b[0;32m      1\u001b[0m \u001b[38;5;66;03m#!/usr/bin/python\u001b[39;00m\n\u001b[0;32m      2\u001b[0m \n\u001b[0;32m      3\u001b[0m \u001b[38;5;66;03m# This sample executes a search request for the specified search term.\u001b[39;00m\n\u001b[1;32m   (...)\u001b[0m\n\u001b[0;32m      7\u001b[0m \u001b[38;5;66;03m#       in the Google APIs Console. Search for \"REPLACE_ME\" in this code\u001b[39;00m\n\u001b[0;32m      8\u001b[0m \u001b[38;5;66;03m#       to find the correct place to provide that key..\u001b[39;00m\n\u001b[0;32m     10\u001b[0m \u001b[38;5;28;01mimport\u001b[39;00m \u001b[38;5;21;01margparse\u001b[39;00m\n\u001b[1;32m---> 12\u001b[0m \u001b[38;5;28;01mfrom\u001b[39;00m \u001b[38;5;21;01mgoogleapiclient\u001b[39;00m\u001b[38;5;21;01m.\u001b[39;00m\u001b[38;5;21;01mdiscovery\u001b[39;00m \u001b[38;5;28;01mimport\u001b[39;00m build\n\u001b[0;32m     13\u001b[0m \u001b[38;5;28;01mfrom\u001b[39;00m \u001b[38;5;21;01mgoogleapiclient\u001b[39;00m\u001b[38;5;21;01m.\u001b[39;00m\u001b[38;5;21;01merrors\u001b[39;00m \u001b[38;5;28;01mimport\u001b[39;00m HttpError\n",
      "\u001b[1;31mModuleNotFoundError\u001b[0m: No module named 'googleapiclient'"
     ]
    }
   ],
   "source": [
    "#!/usr/bin/python\n",
    "\n",
    "# This sample executes a search request for the specified search term.\n",
    "# Sample usage:\n",
    "#   python search.py --q=surfing --max-results=10\n",
    "# NOTE: To use the sample, you must provide a developer key obtained\n",
    "#       in the Google APIs Console. Search for \"REPLACE_ME\" in this code\n",
    "#       to find the correct place to provide that key..\n",
    "\n",
    "import argparse\n",
    "\n",
    "from googleapiclient.discovery import build\n",
    "from googleapiclient.errors import HttpError"
   ]
  },
  {
   "cell_type": "code",
   "execution_count": 5,
   "id": "1053ab0f",
   "metadata": {},
   "outputs": [
    {
     "name": "stderr",
     "output_type": "stream",
     "text": [
      "usage: ipykernel_launcher.py [-h] [--q Q] [--max-results MAX_RESULTS]\n",
      "ipykernel_launcher.py: error: unrecognized arguments: -f C:\\Users\\kaavy\\AppData\\Roaming\\jupyter\\runtime\\kernel-d2835c77-6dd9-47f4-8071-5d4547173647.json\n"
     ]
    },
    {
     "ename": "SystemExit",
     "evalue": "2",
     "output_type": "error",
     "traceback": [
      "An exception has occurred, use %tb to see the full traceback.\n",
      "\u001b[1;31mSystemExit\u001b[0m\u001b[1;31m:\u001b[0m 2\n"
     ]
    },
    {
     "name": "stderr",
     "output_type": "stream",
     "text": [
      "C:\\Users\\kaavy\\anaconda3\\lib\\site-packages\\IPython\\core\\interactiveshell.py:3377: UserWarning: To exit: use 'exit', 'quit', or Ctrl-D.\n",
      "  warn(\"To exit: use 'exit', 'quit', or Ctrl-D.\", stacklevel=1)\n"
     ]
    }
   ],
   "source": [
    "\n",
    "\n",
    "\n",
    "# Set DEVELOPER_KEY to the API key value from the APIs & auth > Registered apps\n",
    "# tab of\n",
    "#   https://cloud.google.com/console\n",
    "# Please ensure that you have enabled the YouTube Data API for your project.\n",
    "DEVELOPER_KEY = 'YOUR_KEY'\n",
    "YOUTUBE_API_SERVICE_NAME = 'youtube'\n",
    "YOUTUBE_API_VERSION = 'v3'\n",
    "\n",
    "def youtube_search(options):\n",
    "  youtube = build(YOUTUBE_API_SERVICE_NAME, YOUTUBE_API_VERSION,\n",
    "    developerKey=DEVELOPER_KEY)\n",
    "\n",
    "  # Call the search.list method to retrieve results matching the specified\n",
    "  # query term.\n",
    "  search_response = youtube.search().list(\n",
    "    q=options.q,\n",
    "    part='id,snippet',\n",
    "    maxResults=options.max_results\n",
    "  ).execute()\n",
    "\n",
    "  videos = []\n",
    "  channels = []\n",
    "  playlists = []\n",
    "\n",
    "  # Add each result to the appropriate list, and then display the lists of\n",
    "  # matching videos, channels, and playlists.\n",
    "  for search_result in search_response.get('items', []):\n",
    "    if search_result['id']['kind'] == 'youtube#video':\n",
    "      videos.append('%s (%s)' % (search_result['snippet']['title'],\n",
    "                                 search_result['id']['videoId']))\n",
    "    elif search_result['id']['kind'] == 'youtube#channel':\n",
    "      channels.append('%s (%s)' % (search_result['snippet']['title'],\n",
    "                                   search_result['id']['channelId']))\n",
    "    elif search_result['id']['kind'] == 'youtube#playlist':\n",
    "      playlists.append('%s (%s)' % (search_result['snippet']['title'],\n",
    "                                    search_result['id']['playlistId']))\n",
    "\n",
    "  print ('Videos:\\n','\\n'.join(videos), '\\n')\n",
    "  print ('Channels:\\n', '\\n'.join(channels), '\\n')\n",
    "  print ('Playlists:\\n', '\\n'.join(playlists), '\\n')\n",
    "\n",
    "\n",
    "if __name__ == '__main__':\n",
    "  parser = argparse.ArgumentParser()\n",
    "  parser.add_argument('--q', help='Search term', default='ft.')\n",
    "  parser.add_argument('--max-results', help='Max results', default=25)\n",
    "  args = parser.parse_args()\n",
    "\n",
    "  try:\n",
    "    youtube_search(args)\n",
    "  except HttpError as e:\n",
    "    print ('An HTTP error %d occurred:\\n%s') % (e.resp.status, e.content)"
   ]
  },
  {
   "cell_type": "code",
   "execution_count": null,
   "id": "389c374b",
   "metadata": {},
   "outputs": [],
   "source": []
  }
 ],
 "metadata": {
  "kernelspec": {
   "display_name": "Python 3 (ipykernel)",
   "language": "python",
   "name": "python3"
  },
  "language_info": {
   "codemirror_mode": {
    "name": "ipython",
    "version": 3
   },
   "file_extension": ".py",
   "mimetype": "text/x-python",
   "name": "python",
   "nbconvert_exporter": "python",
   "pygments_lexer": "ipython3",
   "version": "3.9.12"
  }
 },
 "nbformat": 4,
 "nbformat_minor": 5
}
